{
 "cells": [
  {
   "cell_type": "code",
   "execution_count": 1,
   "id": "6c8a7b65-881b-480c-ac3a-fcdc821c6ff4",
   "metadata": {},
   "outputs": [
    {
     "name": "stdin",
     "output_type": "stream",
     "text": [
      " ········\n"
     ]
    }
   ],
   "source": [
    "import getpass\n",
    "import os\n",
    "\n",
    "os.environ[\"COHERE_API_KEY\"] = getpass.getpass()"
   ]
  },
  {
   "cell_type": "code",
   "execution_count": 2,
   "id": "08e41456-6150-4cf2-9019-4a0caeb0dfa9",
   "metadata": {},
   "outputs": [],
   "source": [
    "from langchain_cohere import ChatCohere\n",
    "\n",
    "model = ChatCohere()"
   ]
  },
  {
   "cell_type": "code",
   "execution_count": 3,
   "id": "235ef80f-9ed9-43e6-adb6-00940aa40f99",
   "metadata": {},
   "outputs": [
    {
     "name": "stdout",
     "output_type": "stream",
     "text": [
      "26 تخم‌مرغ.\n"
     ]
    }
   ],
   "source": [
    "message = \"\"\"\n",
    "سوال: علی ۳ عدد شیرینی داشته و چهار جعبه شیرینی دیگر هم خریده است. هر جعبه دارای پنج شیرینی است. علی اکنون چند شیرینی دارد؟\n",
    "پاسخ: ۲۳\n",
    "\n",
    "سوال: در صورتی‌که کافه‌ای ۳۰ تخم‌مرغ داشته باشد و ۲۰ عددش را مصرف کند و بعد از آن ۶ تخم‌مرغ جدید بخرد، در نهایت چند تخم‌مرغ خواهد داشت؟\n",
    "پاسخ:\n",
    "\"\"\"\n",
    "\n",
    "response = model.invoke(message)\n",
    "print(response.content)"
   ]
  },
  {
   "cell_type": "code",
   "execution_count": 4,
   "id": "b8146864-deda-42d4-9064-5e703d6af203",
   "metadata": {},
   "outputs": [
    {
     "name": "stdout",
     "output_type": "stream",
     "text": [
      "کافه در ابتدا ۳۰ تخم‌مرغ داشته است. بعد از مصرف ۲۰ عدد، ۱۰ تخم‌مرغ باقی می‌ماند. سپس با خرید ۶ تخم‌مرغ جدید، تعداد تخم‌مرغ‌ها به ۱۶ عدد می‌رسد. پس در نهایت، کافه ۱۶ تخم‌مرغ خواهد داشت.\n"
     ]
    }
   ],
   "source": [
    "message = \"\"\"\n",
    "سوال: علی ۳ عدد شیرینی داشته و چهار جعبه شیرینی دیگر هم خریده است. هر جعبه دارای پنج شیرینی است. علی اکنون چند شیرینی دارد؟\n",
    "پاسخ: علی ۳ شیرینی داشته است و بعد ۴ جعبه‌ی ۵‌تایی شیرینی که برابر ۲۰ عدد شیرینی می‌شود خریده است. پس جواب نهایی برابر ۳ + ۲۰ = ۲۳ می‌شود.\n",
    "\n",
    "سوال: در صورتی‌که کافه‌ای ۳۰ تخم‌مرغ داشته باشد و ۲۰ عددش را مصرف کند و بعد از آن ۶ تخم‌مرغ جدید بخرد، در نهایت چند تخم‌مرغ خواهد داشت؟\n",
    "پاسخ:\n",
    "\"\"\"\n",
    "\n",
    "response = model.invoke(message)\n",
    "print(response.content)"
   ]
  },
  {
   "cell_type": "code",
   "execution_count": null,
   "id": "8e02607a-2aa7-4927-aed3-99172af6dc7e",
   "metadata": {},
   "outputs": [],
   "source": []
  }
 ],
 "metadata": {
  "kernelspec": {
   "display_name": "Python 3 (ipykernel)",
   "language": "python",
   "name": "python3"
  },
  "language_info": {
   "codemirror_mode": {
    "name": "ipython",
    "version": 3
   },
   "file_extension": ".py",
   "mimetype": "text/x-python",
   "name": "python",
   "nbconvert_exporter": "python",
   "pygments_lexer": "ipython3",
   "version": "3.11.9"
  }
 },
 "nbformat": 4,
 "nbformat_minor": 5
}
