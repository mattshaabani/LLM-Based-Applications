{
 "cells": [
  {
   "cell_type": "code",
   "execution_count": 2,
   "id": "aa401467-3994-4915-9b35-79eb6dce8dd3",
   "metadata": {},
   "outputs": [
    {
     "name": "stdin",
     "output_type": "stream",
     "text": [
      " ········\n"
     ]
    }
   ],
   "source": [
    "import getpass\n",
    "import os\n",
    "from langchain_cohere import ChatCohere\n",
    "os.environ[\"COHERE_API_KEY\"] = getpass.getpass()\n",
    "from langchain_core.prompts import ChatPromptTemplate\n",
    "from langchain_core.prompts import FewShotChatMessagePromptTemplate"
   ]
  },
  {
   "cell_type": "code",
   "execution_count": 10,
   "id": "7b0b4273-7b8a-4bda-bf90-007ca0b90ed4",
   "metadata": {},
   "outputs": [],
   "source": [
    "from langchain_chroma import Chroma\n",
    "from langchain_core.example_selectors import SemanticSimilarityExampleSelector\n",
    "from langchain_core.example_selectors import LengthBasedExampleSelector\n",
    "from langchain_cohere import CohereEmbeddings"
   ]
  },
  {
   "cell_type": "code",
   "execution_count": 4,
   "id": "b50f8bd0-0664-4295-a409-971190442c3f",
   "metadata": {},
   "outputs": [],
   "source": [
    "chat_model = ChatCohere()"
   ]
  },
  {
   "cell_type": "code",
   "execution_count": 14,
   "id": "459911dc-f33b-42ae-9435-9d7b0e89d066",
   "metadata": {},
   "outputs": [],
   "source": [
    "examples = [\n",
    "    {\"question\": \"من عاشق این فیلمم!\", \n",
    "     \"answer\":  \"مثبت\"},\n",
    "    {\"question\": \"از این صندلی خوشم نمی‌اد\",\n",
    "     \"answer\":  \"منفی\"}\n",
    "    ]"
   ]
  },
  {
   "cell_type": "code",
   "execution_count": 15,
   "id": "82b9c7f5-6a65-46d9-99d6-29161fa2d6e5",
   "metadata": {},
   "outputs": [],
   "source": [
    "example_prompt = ChatPromptTemplate.from_messages(\n",
    "    [(\"human\", \"{question}\"),\n",
    "     (\"ai\", \"{answer}\")\n",
    "    ]\n",
    ")"
   ]
  },
  {
   "cell_type": "code",
   "execution_count": 17,
   "id": "69bd876f-cb8b-4b29-b5db-eba064cb189e",
   "metadata": {},
   "outputs": [
    {
     "name": "stdout",
     "output_type": "stream",
     "text": [
      "متن ارائه‌شده بیانگر احساسات منفی و انتقاد نسبت به یک فیلم است. فردی که این متن را نوشته، احتمالاً احساس ناامیدی یا نارضایتی از آن فیلم دارد و تمایلی به تماشای آن نشان نمی‌دهد. این جمله می‌تواند بیانگر طنز یا تمسخر نیز باشد، اما در کل، احساس غالب در این متن، عدم علاقه و انتقاد است.\n"
     ]
    }
   ],
   "source": [
    "without_few_shot = ChatPromptTemplate.from_messages(\n",
    "    [(  \"system\", \"احساس متن زیر رو دسته بندی کن\"),\n",
    "        (\"human\", \"{question}\")\n",
    "    ]\n",
    ")\n",
    "\n",
    "chain_without_few_shot = without_few_shot | chat_model\n",
    "\n",
    "chat_ai = chain_without_few_shot.invoke({\"question\": \"آخه کی می‌ره این فیلمو ببینه؟\"})\n",
    "print(chat_ai.content)"
   ]
  },
  {
   "cell_type": "code",
   "execution_count": 18,
   "id": "60bccdab-813d-4952-ab92-9a9531a8da77",
   "metadata": {},
   "outputs": [],
   "source": [
    "few_shot_prompt = FewShotChatMessagePromptTemplate(\n",
    "    example_prompt=example_prompt,\n",
    "    examples=examples,\n",
    ")\n",
    "\n",
    "final_prompt_with_few_shot = ChatPromptTemplate.from_messages(\n",
    "    [(  \"system\", \"احساس متن زیر رو دسته بندی کن\"),\n",
    "     few_shot_prompt,\n",
    "     (\"human\", \"{question}\")\n",
    "    ]\n",
    ")"
   ]
  },
  {
   "cell_type": "code",
   "execution_count": 19,
   "id": "dc210f96-703b-4ef0-a0c2-830321c878e8",
   "metadata": {},
   "outputs": [
    {
     "name": "stdout",
     "output_type": "stream",
     "text": [
      "منفی\n"
     ]
    }
   ],
   "source": [
    "chain_with_few_shot = final_prompt_with_few_shot | chat_model\n",
    "\n",
    "chat_ai = chain_with_few_shot.invoke({\"question\": \"آخه کی می‌ره این فیلمو ببینه؟\"})\n",
    "\n",
    "print(chat_ai.content)"
   ]
  },
  {
   "cell_type": "markdown",
   "id": "60c91707-f539-4cc8-95f6-1eb8f0c02c5b",
   "metadata": {},
   "source": [
    "## Lecture 2"
   ]
  },
  {
   "cell_type": "code",
   "execution_count": 20,
   "id": "661fe984-9b22-4039-8405-35577985ba9a",
   "metadata": {},
   "outputs": [],
   "source": [
    "examples = [\n",
    "    {\n",
    "        \"question\": \"خوشحال\",\n",
    "        \"answer\": \"ناراحت\"\n",
    "    },\n",
    "    {\n",
    "        \"question\": \"مادر\",\n",
    "        \"answer\": \"مهربان\"\n",
    "    },\n",
    "    {\n",
    "        \"question\": \"روز\",\n",
    "        \"answer\": \"خورشید\"\n",
    "    },\n",
    "]\n",
    "\n",
    "embeddings = CohereEmbeddings(model='embed-multilingual-v3.0')\n",
    "to_vectorize = [\" \".join(example.values()) for example in examples]\n",
    "vectorstore = Chroma.from_texts(to_vectorize, embeddings, metadatas=examples)"
   ]
  },
  {
   "cell_type": "code",
   "execution_count": 21,
   "id": "8771db9d-8ea2-42df-aab6-12ac4063f99b",
   "metadata": {},
   "outputs": [],
   "source": [
    "example_selector = SemanticSimilarityExampleSelector(\n",
    "    vectorstore=vectorstore,\n",
    "    k=2,\n",
    ")"
   ]
  },
  {
   "cell_type": "code",
   "execution_count": 22,
   "id": "add937a7-c7b6-4132-a907-75c89ee47df6",
   "metadata": {},
   "outputs": [
    {
     "data": {
      "text/plain": [
       "[{'answer': 'ناراحت', 'question': 'خوشحال'},\n",
       " {'answer': 'ناراحت', 'question': 'خوشحال'}]"
      ]
     },
     "execution_count": 22,
     "metadata": {},
     "output_type": "execute_result"
    }
   ],
   "source": [
    "example_selector.select_examples({\"question\": \"مضطرب\"})"
   ]
  },
  {
   "cell_type": "code",
   "execution_count": 23,
   "id": "d46534f8-de27-48c6-8823-e3a4b802b2c0",
   "metadata": {},
   "outputs": [
    {
     "name": "stdout",
     "output_type": "stream",
     "text": [
      "همراه\n",
      "قوی\n"
     ]
    }
   ],
   "source": [
    "few_shot_prompt = FewShotChatMessagePromptTemplate(\n",
    "    input_variables=[\"question\"],\n",
    "    example_selector=example_selector,\n",
    "    example_prompt=ChatPromptTemplate.from_messages(\n",
    "        [(\"human\", \"{question}\"), (\"ai\", \"{answer}\")]\n",
    "    ),\n",
    ")\n",
    "\n",
    "final_prompt = ChatPromptTemplate.from_messages(\n",
    "    [\n",
    "     few_shot_prompt,\n",
    "     (\"human\", \"{question}\")\n",
    "    ]\n",
    ")\n",
    "\n",
    "chain = final_prompt | chat_model\n",
    "\n",
    "chat_ai = chain.invoke({\"question\": \"مضطرب\"})\n",
    "print(chat_ai.content)\n",
    "\n",
    "chat_ai = chain.invoke({\"question\": \"پدر\"})\n",
    "print(chat_ai.content)"
   ]
  },
  {
   "cell_type": "markdown",
   "id": "66148ba5-8fea-42a4-92fc-038bac786aa0",
   "metadata": {},
   "source": [
    "## Lecture 3"
   ]
  },
  {
   "cell_type": "code",
   "execution_count": 24,
   "id": "5844787d-75ac-430e-9689-151e73f784f2",
   "metadata": {},
   "outputs": [
    {
     "ename": "KeyError",
     "evalue": "'example_prompt'",
     "output_type": "error",
     "traceback": [
      "\u001b[1;31m---------------------------------------------------------------------------\u001b[0m",
      "\u001b[1;31mKeyError\u001b[0m                                  Traceback (most recent call last)",
      "Cell \u001b[1;32mIn[24], line 1\u001b[0m\n\u001b[1;32m----> 1\u001b[0m example_selector \u001b[38;5;241m=\u001b[39m \u001b[43mLengthBasedExampleSelector\u001b[49m\u001b[43m(\u001b[49m\n\u001b[0;32m      2\u001b[0m \u001b[43m    \u001b[49m\u001b[43mexamples\u001b[49m\u001b[38;5;241;43m=\u001b[39;49m\u001b[43mexamples\u001b[49m\u001b[43m,\u001b[49m\n\u001b[0;32m      3\u001b[0m \u001b[43m    \u001b[49m\u001b[43mexample_prompt\u001b[49m\u001b[38;5;241;43m=\u001b[39;49m\u001b[43mexample_prompt\u001b[49m\u001b[43m,\u001b[49m\n\u001b[0;32m      4\u001b[0m \u001b[43m    \u001b[49m\u001b[43mmax_length\u001b[49m\u001b[38;5;241;43m=\u001b[39;49m\u001b[43m \u001b[49m\u001b[38;5;241;43m25\u001b[39;49m\u001b[43m)\u001b[49m\n\u001b[0;32m      6\u001b[0m dynamic_prompt \u001b[38;5;241m=\u001b[39m FewShotChatMessagePromptTemplate(\n\u001b[0;32m      7\u001b[0m     example_selector\u001b[38;5;241m=\u001b[39mexample_selector,\n\u001b[0;32m      8\u001b[0m     example_prompt\u001b[38;5;241m=\u001b[39mexample_prompt,\n\u001b[0;32m      9\u001b[0m     input_variables\u001b[38;5;241m=\u001b[39m[\u001b[38;5;124m\"\u001b[39m\u001b[38;5;124mquestion\u001b[39m\u001b[38;5;124m\"\u001b[39m]\n\u001b[0;32m     10\u001b[0m )\n",
      "File \u001b[1;32mC:\\anaconda\\envs\\quera\\Lib\\site-packages\\pydantic\\v1\\main.py:339\u001b[0m, in \u001b[0;36mBaseModel.__init__\u001b[1;34m(__pydantic_self__, **data)\u001b[0m\n\u001b[0;32m    333\u001b[0m \u001b[38;5;250m\u001b[39m\u001b[38;5;124;03m\"\"\"\u001b[39;00m\n\u001b[0;32m    334\u001b[0m \u001b[38;5;124;03mCreate a new model by parsing and validating input data from keyword arguments.\u001b[39;00m\n\u001b[0;32m    335\u001b[0m \n\u001b[0;32m    336\u001b[0m \u001b[38;5;124;03mRaises ValidationError if the input data cannot be parsed to form a valid model.\u001b[39;00m\n\u001b[0;32m    337\u001b[0m \u001b[38;5;124;03m\"\"\"\u001b[39;00m\n\u001b[0;32m    338\u001b[0m \u001b[38;5;66;03m# Uses something other than `self` the first arg to allow \"self\" as a settable attribute\u001b[39;00m\n\u001b[1;32m--> 339\u001b[0m values, fields_set, validation_error \u001b[38;5;241m=\u001b[39m \u001b[43mvalidate_model\u001b[49m\u001b[43m(\u001b[49m\u001b[43m__pydantic_self__\u001b[49m\u001b[38;5;241;43m.\u001b[39;49m\u001b[38;5;18;43m__class__\u001b[39;49m\u001b[43m,\u001b[49m\u001b[43m \u001b[49m\u001b[43mdata\u001b[49m\u001b[43m)\u001b[49m\n\u001b[0;32m    340\u001b[0m \u001b[38;5;28;01mif\u001b[39;00m validation_error:\n\u001b[0;32m    341\u001b[0m     \u001b[38;5;28;01mraise\u001b[39;00m validation_error\n",
      "File \u001b[1;32mC:\\anaconda\\envs\\quera\\Lib\\site-packages\\pydantic\\v1\\main.py:1074\u001b[0m, in \u001b[0;36mvalidate_model\u001b[1;34m(model, input_data, cls)\u001b[0m\n\u001b[0;32m   1071\u001b[0m     \u001b[38;5;28;01mif\u001b[39;00m check_extra:\n\u001b[0;32m   1072\u001b[0m         names_used\u001b[38;5;241m.\u001b[39madd(field\u001b[38;5;241m.\u001b[39mname \u001b[38;5;28;01mif\u001b[39;00m using_name \u001b[38;5;28;01melse\u001b[39;00m field\u001b[38;5;241m.\u001b[39malias)\n\u001b[1;32m-> 1074\u001b[0m v_, errors_ \u001b[38;5;241m=\u001b[39m \u001b[43mfield\u001b[49m\u001b[38;5;241;43m.\u001b[39;49m\u001b[43mvalidate\u001b[49m\u001b[43m(\u001b[49m\u001b[43mvalue\u001b[49m\u001b[43m,\u001b[49m\u001b[43m \u001b[49m\u001b[43mvalues\u001b[49m\u001b[43m,\u001b[49m\u001b[43m \u001b[49m\u001b[43mloc\u001b[49m\u001b[38;5;241;43m=\u001b[39;49m\u001b[43mfield\u001b[49m\u001b[38;5;241;43m.\u001b[39;49m\u001b[43malias\u001b[49m\u001b[43m,\u001b[49m\u001b[43m \u001b[49m\u001b[38;5;28;43mcls\u001b[39;49m\u001b[38;5;241;43m=\u001b[39;49m\u001b[43mcls_\u001b[49m\u001b[43m)\u001b[49m\n\u001b[0;32m   1075\u001b[0m \u001b[38;5;28;01mif\u001b[39;00m \u001b[38;5;28misinstance\u001b[39m(errors_, ErrorWrapper):\n\u001b[0;32m   1076\u001b[0m     errors\u001b[38;5;241m.\u001b[39mappend(errors_)\n",
      "File \u001b[1;32mC:\\anaconda\\envs\\quera\\Lib\\site-packages\\pydantic\\v1\\fields.py:895\u001b[0m, in \u001b[0;36mModelField.validate\u001b[1;34m(self, v, values, loc, cls)\u001b[0m\n\u001b[0;32m    892\u001b[0m     v, errors \u001b[38;5;241m=\u001b[39m \u001b[38;5;28mself\u001b[39m\u001b[38;5;241m.\u001b[39m_validate_sequence_like(v, values, loc, \u001b[38;5;28mcls\u001b[39m)\n\u001b[0;32m    894\u001b[0m \u001b[38;5;28;01mif\u001b[39;00m \u001b[38;5;129;01mnot\u001b[39;00m errors \u001b[38;5;129;01mand\u001b[39;00m \u001b[38;5;28mself\u001b[39m\u001b[38;5;241m.\u001b[39mpost_validators:\n\u001b[1;32m--> 895\u001b[0m     v, errors \u001b[38;5;241m=\u001b[39m \u001b[38;5;28;43mself\u001b[39;49m\u001b[38;5;241;43m.\u001b[39;49m\u001b[43m_apply_validators\u001b[49m\u001b[43m(\u001b[49m\u001b[43mv\u001b[49m\u001b[43m,\u001b[49m\u001b[43m \u001b[49m\u001b[43mvalues\u001b[49m\u001b[43m,\u001b[49m\u001b[43m \u001b[49m\u001b[43mloc\u001b[49m\u001b[43m,\u001b[49m\u001b[43m \u001b[49m\u001b[38;5;28;43mcls\u001b[39;49m\u001b[43m,\u001b[49m\u001b[43m \u001b[49m\u001b[38;5;28;43mself\u001b[39;49m\u001b[38;5;241;43m.\u001b[39;49m\u001b[43mpost_validators\u001b[49m\u001b[43m)\u001b[49m\n\u001b[0;32m    896\u001b[0m \u001b[38;5;28;01mreturn\u001b[39;00m v, errors\n",
      "File \u001b[1;32mC:\\anaconda\\envs\\quera\\Lib\\site-packages\\pydantic\\v1\\fields.py:1154\u001b[0m, in \u001b[0;36mModelField._apply_validators\u001b[1;34m(self, v, values, loc, cls, validators)\u001b[0m\n\u001b[0;32m   1152\u001b[0m \u001b[38;5;28;01mfor\u001b[39;00m validator \u001b[38;5;129;01min\u001b[39;00m validators:\n\u001b[0;32m   1153\u001b[0m     \u001b[38;5;28;01mtry\u001b[39;00m:\n\u001b[1;32m-> 1154\u001b[0m         v \u001b[38;5;241m=\u001b[39m \u001b[43mvalidator\u001b[49m\u001b[43m(\u001b[49m\u001b[38;5;28;43mcls\u001b[39;49m\u001b[43m,\u001b[49m\u001b[43m \u001b[49m\u001b[43mv\u001b[49m\u001b[43m,\u001b[49m\u001b[43m \u001b[49m\u001b[43mvalues\u001b[49m\u001b[43m,\u001b[49m\u001b[43m \u001b[49m\u001b[38;5;28;43mself\u001b[39;49m\u001b[43m,\u001b[49m\u001b[43m \u001b[49m\u001b[38;5;28;43mself\u001b[39;49m\u001b[38;5;241;43m.\u001b[39;49m\u001b[43mmodel_config\u001b[49m\u001b[43m)\u001b[49m\n\u001b[0;32m   1155\u001b[0m     \u001b[38;5;28;01mexcept\u001b[39;00m (\u001b[38;5;167;01mValueError\u001b[39;00m, \u001b[38;5;167;01mTypeError\u001b[39;00m, \u001b[38;5;167;01mAssertionError\u001b[39;00m) \u001b[38;5;28;01mas\u001b[39;00m exc:\n\u001b[0;32m   1156\u001b[0m         \u001b[38;5;28;01mreturn\u001b[39;00m v, ErrorWrapper(exc, loc)\n",
      "File \u001b[1;32mC:\\anaconda\\envs\\quera\\Lib\\site-packages\\pydantic\\v1\\class_validators.py:306\u001b[0m, in \u001b[0;36m_generic_validator_cls.<locals>.<lambda>\u001b[1;34m(cls, v, values, field, config)\u001b[0m\n\u001b[0;32m    304\u001b[0m     \u001b[38;5;28;01mreturn\u001b[39;00m \u001b[38;5;28;01mlambda\u001b[39;00m \u001b[38;5;28mcls\u001b[39m, v, values, field, config: validator(\u001b[38;5;28mcls\u001b[39m, v)\n\u001b[0;32m    305\u001b[0m \u001b[38;5;28;01melif\u001b[39;00m args \u001b[38;5;241m==\u001b[39m {\u001b[38;5;124m'\u001b[39m\u001b[38;5;124mvalues\u001b[39m\u001b[38;5;124m'\u001b[39m}:\n\u001b[1;32m--> 306\u001b[0m     \u001b[38;5;28;01mreturn\u001b[39;00m \u001b[38;5;28;01mlambda\u001b[39;00m \u001b[38;5;28mcls\u001b[39m, v, values, field, config: \u001b[43mvalidator\u001b[49m\u001b[43m(\u001b[49m\u001b[38;5;28;43mcls\u001b[39;49m\u001b[43m,\u001b[49m\u001b[43m \u001b[49m\u001b[43mv\u001b[49m\u001b[43m,\u001b[49m\u001b[43m \u001b[49m\u001b[43mvalues\u001b[49m\u001b[38;5;241;43m=\u001b[39;49m\u001b[43mvalues\u001b[49m\u001b[43m)\u001b[49m\n\u001b[0;32m    307\u001b[0m \u001b[38;5;28;01melif\u001b[39;00m args \u001b[38;5;241m==\u001b[39m {\u001b[38;5;124m'\u001b[39m\u001b[38;5;124mfield\u001b[39m\u001b[38;5;124m'\u001b[39m}:\n\u001b[0;32m    308\u001b[0m     \u001b[38;5;28;01mreturn\u001b[39;00m \u001b[38;5;28;01mlambda\u001b[39;00m \u001b[38;5;28mcls\u001b[39m, v, values, field, config: validator(\u001b[38;5;28mcls\u001b[39m, v, field\u001b[38;5;241m=\u001b[39mfield)\n",
      "File \u001b[1;32mC:\\anaconda\\envs\\quera\\Lib\\site-packages\\langchain_core\\example_selectors\\length_based.py:61\u001b[0m, in \u001b[0;36mLengthBasedExampleSelector.calculate_example_text_lengths\u001b[1;34m(cls, v, values)\u001b[0m\n\u001b[0;32m     59\u001b[0m     \u001b[38;5;28;01mreturn\u001b[39;00m v\n\u001b[0;32m     60\u001b[0m \u001b[38;5;66;03m# If they were not, calculate them\u001b[39;00m\n\u001b[1;32m---> 61\u001b[0m example_prompt \u001b[38;5;241m=\u001b[39m \u001b[43mvalues\u001b[49m\u001b[43m[\u001b[49m\u001b[38;5;124;43m\"\u001b[39;49m\u001b[38;5;124;43mexample_prompt\u001b[39;49m\u001b[38;5;124;43m\"\u001b[39;49m\u001b[43m]\u001b[49m\n\u001b[0;32m     62\u001b[0m get_text_length \u001b[38;5;241m=\u001b[39m values[\u001b[38;5;124m\"\u001b[39m\u001b[38;5;124mget_text_length\u001b[39m\u001b[38;5;124m\"\u001b[39m]\n\u001b[0;32m     63\u001b[0m string_examples \u001b[38;5;241m=\u001b[39m [example_prompt\u001b[38;5;241m.\u001b[39mformat(\u001b[38;5;241m*\u001b[39m\u001b[38;5;241m*\u001b[39meg) \u001b[38;5;28;01mfor\u001b[39;00m eg \u001b[38;5;129;01min\u001b[39;00m values[\u001b[38;5;124m\"\u001b[39m\u001b[38;5;124mexamples\u001b[39m\u001b[38;5;124m\"\u001b[39m]]\n",
      "\u001b[1;31mKeyError\u001b[0m: 'example_prompt'"
     ]
    }
   ],
   "source": [
    "example_selector = LengthBasedExampleSelector(\n",
    "    examples=examples,\n",
    "    example_prompt=example_prompt,\n",
    "    max_length= 25)\n",
    "\n",
    "dynamic_prompt = FewShotChatMessagePromptTemplate(\n",
    "    example_selector=example_selector,\n",
    "    example_prompt=example_prompt,\n",
    "    input_variables=[\"question\"]\n",
    ")"
   ]
  },
  {
   "cell_type": "code",
   "execution_count": null,
   "id": "938e76dd-d7b0-46dc-9812-526feb20bd84",
   "metadata": {},
   "outputs": [],
   "source": []
  }
 ],
 "metadata": {
  "kernelspec": {
   "display_name": "Python 3 (ipykernel)",
   "language": "python",
   "name": "python3"
  },
  "language_info": {
   "codemirror_mode": {
    "name": "ipython",
    "version": 3
   },
   "file_extension": ".py",
   "mimetype": "text/x-python",
   "name": "python",
   "nbconvert_exporter": "python",
   "pygments_lexer": "ipython3",
   "version": "3.11.9"
  }
 },
 "nbformat": 4,
 "nbformat_minor": 5
}
