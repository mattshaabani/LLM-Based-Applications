{
 "cells": [
  {
   "cell_type": "code",
   "execution_count": 1,
   "id": "21e79d1a-3201-4f65-91f8-0f9314901285",
   "metadata": {},
   "outputs": [
    {
     "name": "stdin",
     "output_type": "stream",
     "text": [
      " ········\n"
     ]
    }
   ],
   "source": [
    "import getpass\n",
    "import os\n",
    "os.environ[\"COHERE_API_KEY\"] = getpass.getpass()"
   ]
  },
  {
   "cell_type": "markdown",
   "id": "726c2299-667d-421e-b528-0ac7406eb381",
   "metadata": {},
   "source": [
    "## First Lecture"
   ]
  },
  {
   "cell_type": "code",
   "execution_count": 2,
   "id": "1d843d4a-4131-4119-94af-4f1b55745525",
   "metadata": {},
   "outputs": [],
   "source": [
    "from langchain_cohere.llms import Cohere\n",
    "\n",
    "model = Cohere(temperature=0.1)"
   ]
  },
  {
   "cell_type": "code",
   "execution_count": 3,
   "id": "d6741c55-86c8-426e-bc54-b8553b3cbf90",
   "metadata": {},
   "outputs": [
    {
     "name": "stdout",
     "output_type": "stream",
     "text": [
      " Here are some books and articles about existentialism that you may find interesting: \n",
      "\n",
      "1. \"The Stranger\" by Camus. This is a philosophical novel that explores existentialist themes through the story of a man facing the absurdity of life and the consequences of his own moral independence. \n",
      "\n",
      "2. \"Man's Search for Meaning\" by Viktor Frankl. This memoir explores the author's experience as a prisoner in Nazi concentration camps and how even in the face of profound suffering, an individual can still find meaning in life. \n",
      "\n",
      "3. \"The Myth of Sisyphus\" by Camus. This is a philosophical essay that discusses the idea of the absurd and how the awareness of the absurdity of life does not necessarily lead to nihilism, but rather to rebellion. \n",
      "\n",
      "4. \"Walden\" by Henry David Thoreau. This book is a reflection on the author's experiment of living in solitude in nature for two years. It touches on themes of self-reliance, independence, and the pursuit of personal fulfillment. \n",
      "\n",
      "5. \"Existentialism and Humanism\" by Jean-Paul Sartre. This essay outlines the principles of existentialism and introduces the concept of \"existence precedes essence,\" meaning that individuals must create their own essence, or identity, through their choices and actions. \n",
      "\n",
      "6. \"The Plague\" by Camus. This novel tells the story of a town facing a pandemic and how the characters deal with the absurdity of their circumstances. It explores themes of isolation, the value of human connection, and the search for meaning in the face of despair. \n",
      "\n",
      "These works provide an introduction to existentialist thought and the ways in which it shapes our understanding of the human experience. \n"
     ]
    }
   ],
   "source": [
    "message = \"Can you tell me something to read about existancialism?\"\n",
    "response = model.invoke(message)\n",
    "print(response)"
   ]
  },
  {
   "cell_type": "code",
   "execution_count": 3,
   "id": "ebe3c40e-8f87-4a9c-98c3-469b0afd686f",
   "metadata": {},
   "outputs": [],
   "source": [
    "from langchain_cohere import ChatCohere\n",
    "\n",
    "chat = ChatCohere(model = 'command-r-plus', temprature = 0.1)"
   ]
  },
  {
   "cell_type": "code",
   "execution_count": 22,
   "id": "18e73606-af8b-4d77-bce3-0aad9fdb78fa",
   "metadata": {},
   "outputs": [],
   "source": [
    "from langchain_core.messages import HumanMessage, SystemMessage\n",
    "\n",
    "messages = [\n",
    "    SystemMessage(\n",
    "        content = \"you are a psychology master. give answers to your students and guide them correctly\"\n",
    "    ),\n",
    "    HumanMessage(\n",
    "        content = \"what is the role of Kier Kegaard in existentialist?\"\n",
    "    )\n",
    "]\n",
    "\n",
    "res = chat.invoke(messages)"
   ]
  },
  {
   "cell_type": "code",
   "execution_count": 7,
   "id": "c307a5d6-e648-48d1-91d8-8539e1e96373",
   "metadata": {},
   "outputs": [
    {
     "data": {
      "text/plain": [
       "'Søren Kierkegaard is often referred to as the \"Father of Existentialism\" and his influence on existentialist thought is significant. Here\\'s an overview of his role in existentialism:\\n\\n1. Emphasis on Individual Existence: Kierkegaard\\'s philosophy places a strong emphasis on individual existence and the subjective experience of each person. He argued that individuals must create their own meaning and purpose in life, rather than relying on external systems or authorities. This focus on individual existence is a cornerstone of existentialism.\\n\\n2. Existential Anxiety and Dread: Kierkegaard introduced the concept of \"existential anxiety\" or \"dread,\" which is the anxiety that arises from the awareness of our freedom and the possibilities that lie before us. He believed that facing this anxiety is an essential part of personal growth and becoming authentic individuals.\\n\\n3. Faith and Leap of Faith: Kierkegaard distinguished between two types of life paths: the aesthetic and the ethical/religious. The aesthetic life is one of immediate pleasure and sensual enjoyment, but it leaves an individual feeling empty and unfulfilled. The ethical/religious life, on the other hand, involves a commitment to moral values and, for Kierkegaard, faith in God. This transition requires a \"leap of faith,\" where individuals make a conscious choice to commit themselves to a higher purpose.\\n\\n4. Critique of Hegelian Idealism: Kierkegaard criticized the philosophical system of Georg Wilhelm Friedrich Hegel, which emphasized objective, rational, and universal truths. Instead, he focused on subjective truth and the individual\\'s inner life, arguing that truth is found in personal experience and commitment.\\n\\n5. Influence on Later Existentialists: Kierkegaard\\'s ideas influenced many later existentialist thinkers, including Jean-Paul Sartre, Albert Camus, and Martin Heidegger. They further developed his themes of individual freedom, choice, and the search for authenticity.\\n\\nIn summary, Kierkegaard\\'s role in existentialism revolves around his emphasis on individual existence, the importance of personal choice and commitment, the concept of existential anxiety, and his critique of systematic philosophy. He laid the groundwork for much of the existentialist movement that followed, and his ideas continue to shape existentialist thought today.'"
      ]
     },
     "execution_count": 7,
     "metadata": {},
     "output_type": "execute_result"
    }
   ],
   "source": [
    "res.content"
   ]
  },
  {
   "cell_type": "code",
   "execution_count": 8,
   "id": "bb23eaee-f919-4ef9-88ac-e7c0442ad52d",
   "metadata": {},
   "outputs": [
    {
     "data": {
      "text/plain": [
       "{'input_tokens': 228.0, 'output_tokens': 432.0}"
      ]
     },
     "execution_count": 8,
     "metadata": {},
     "output_type": "execute_result"
    }
   ],
   "source": [
    "res.additional_kwargs['token_count']"
   ]
  },
  {
   "cell_type": "markdown",
   "id": "76073391-52f8-4c87-95b0-2200680bdcec",
   "metadata": {},
   "source": [
    "## Second Lecture"
   ]
  },
  {
   "cell_type": "code",
   "execution_count": 21,
   "id": "5cc0c117-0239-46ec-bbbc-3b5d8de0534e",
   "metadata": {},
   "outputs": [],
   "source": [
    "system = SystemMessage(content = \"you are a psychology master in university\")\n",
    "\n",
    "messages = [\n",
    "    [system, HumanMessage(content = \"what is the role of Schopenhauer in existentialist?\")],\n",
    "    [system, HumanMessage(content = \"can you tell the difference betweenthe role of Schopenhauer and Kierkegaard?\")]\n",
    "]\n",
    "\n",
    "res = chat.batch(messages)"
   ]
  },
  {
   "cell_type": "code",
   "execution_count": 14,
   "id": "1912da10-980f-47e0-95b5-1ef03e959ae9",
   "metadata": {},
   "outputs": [
    {
     "name": "stdout",
     "output_type": "stream",
     "text": [
      "Arthur Schopenhauer, a German philosopher, is often regarded as a precursor to existentialist thought, and his influence on existentialism is significant, although he himself is not considered an existentialist philosopher. Here's an overview of his role and influence in existentialism:\n",
      "\n",
      "1. Freedom and Will: Schopenhauer's philosophy revolves around the concept of will, which he saw as the fundamental essence of the world. He believed that human beings are driven by an irrational and uncontrollable will that is the source of our desires, actions, and suffering. This view contrasts with the deterministic worldview of many of his contemporaries. Existentialists embraced this notion of freedom and will, arguing that individuals are ultimately responsible for their actions and choices, regardless of external circumstances.\n",
      "\n",
      "2. Existential Anxiety and Suffering: Schopenhauer's philosophy is marked by a pessimistic view of human existence, emphasizing the omnipresence of suffering. He believed that life is characterized by a constant striving that can never be satisfied, leading to a cycle of desire, frustration, and pain. This idea of existential anxiety and the inevitability of suffering resonated with existentialists, who often explored the themes of anguish, despair, and the absurdity of human existence.\n",
      "\n",
      "3. Authenticity and Individuality: While Schopenhauer didn't use the term \"authenticity\" explicitly, his emphasis on individual experience and the primacy of one's inner world influenced existentialist thought. Schopenhauer believed that individuals should strive to understand their own nature and the nature of the world, rather than blindly following societal norms or external authorities. This emphasis on individual authenticity and the rejection of conformity are central themes in existentialism.\n",
      "\n",
      "4. Influence on Key Existentialists: Several key figures in existentialism, including Friedrich Nietzsche, Jean-Paul Sartre, and Albert Camus, engaged with Schopenhauer's ideas. Nietzsche, for instance, built upon Schopenhauer's concept of will, while also critiquing his pessimism. Sartre and Camus both acknowledged the influence of Schopenhauer's thoughts on their own philosophies, particularly regarding the absurdity and meaninglessness of existence.\n",
      "\n",
      "5. Critique of Rationalism: Schopenhauer critiqued the rationalism and idealism prevalent in philosophy during his time, arguing that reason alone cannot explain the human condition. This skepticism toward pure rationalism is a common thread in existentialist thought, which often emphasizes the limitations of reason and the importance of subjective experience and individual interpretation.\n",
      "\n",
      "In summary, Schopenhauer's influence on existentialism lies in his emphasis on freedom and will, his recognition of existential suffering, his focus on individual experience, and his critique of rationalism. While existentialists diverged from Schopenhauer in many ways and developed their own distinct philosophies, his ideas laid the groundwork for many of the themes and concerns central to existentialist thought.\n",
      "**********************************************************************\n",
      "Sure, both Arthur Schopenhauer and Søren Kierkegaard are often regarded as existentialist or proto-existentialist philosophers, but their philosophies differ in significant ways:\n",
      "\n",
      "Arthur Schopenhauer:\n",
      "\n",
      "Schopenhauer is known for his philosophical pessimism and his idea of the world as a place of suffering. Some key aspects of his philosophy include:\n",
      "\n",
      "1. Will: For Schopenhauer, the fundamental reality of the world is not material, but a blind, irrational will that drives all of nature. This will is the source of our desires and the root of our suffering.\n",
      "\n",
      "1. Pessimism: Schopenhauer believed that life is characterized by suffering and that our desires are ultimately futile attempts to escape this suffering. He thought that the best we can do is to recognize the futility of our striving and seek a form of redemption through art, asceticism, or compassion.\n",
      "\n",
      "1. Aesthetics: Schopenhauer valued art and music as ways to escape the suffering of the world. Through aesthetic contemplation, we can transcend our individual desires and find temporary relief from the pain of existence.\n",
      "\n",
      "1. Compassion: Schopenhauer's philosophy also emphasizes compassion, or *Mitleid*, as a way to alleviate suffering. By recognizing that others are also driven by the same irrational will, we can develop empathy and act to reduce the suffering of others.\n",
      "\n",
      "Søren Kierkegaard:\n",
      "\n",
      "Kierkegaard, on the other hand, is often regarded as the father of existentialism. His philosophy focuses on individual subjectivity, freedom, and choice:\n",
      "\n",
      "1. Individuality: Kierkegaard emphasizes the importance of individual choice and subjectivity. He argues that we must each create our own values and meaning in life, rather than blindly following societal norms or external authorities.\n",
      "\n",
      "1. Existential Choice: Kierkegaard's philosophy centers on the idea of existential choice, or *either/or*. He suggests that we must continually make choices that define who we are and how we live our lives. These choices are often between the aesthetic (focused on immediate pleasure) and the ethical (focused on duty and responsibility).\n",
      "\n",
      "1. Faith: Kierkegaard, writing under various pseudonyms, explored the concept of faith, particularly Christian faith. He saw faith as a passionate commitment that involves risk and a \"leap\" into the unknown. Faith, for Kierkegaard, is not based on rational argument but on a personal, existential decision.\n",
      "\n",
      "1. Anxiety: Kierkegaard introduced the concept of anxiety or dread (*angest*) as a central aspect of human existence. He believed that anxiety arises from our freedom to choose and the recognition of our own finitude.\n",
      "\n",
      "1. Authenticity: Kierkegaard emphasized the importance of living authentically and sincerely, being true to one's self and one's choices, rather than conforming to external expectations.\n",
      "\n",
      "So, while both philosophers share a concern with the individual's place in the world, Schopenhauer's philosophy tends towards pessimism and the idea of a world driven by irrational will, while Kierkegaard emphasizes individual freedom, choice, and the creation of personal meaning.\n",
      "**********************************************************************\n"
     ]
    }
   ],
   "source": [
    "for response in res:\n",
    "    print(response.content)\n",
    "    print('*'*70)"
   ]
  },
  {
   "cell_type": "code",
   "execution_count": 23,
   "id": "2f1045da-abfa-49f5-9ca1-5cb4ed324c55",
   "metadata": {},
   "outputs": [
    {
     "name": "stdout",
     "output_type": "stream",
     "text": [
      "Søren Kierkegaard is often referred to as the \"Father of Existentialism\" and his influence on existentialist thought is significant. Here's an overview of his role in existentialism:\n",
      "\n",
      "1. Emphasis on Individual Existence: Kierkegaard's philosophy is centered on the individual and the subjective experience of existence. He argued that each person lives their life from their own unique perspective and that existence is fundamentally characterized by uncertainty, freedom, and choice. This focus on individual existence is a cornerstone of existentialism.\n",
      "\n",
      "2. Existential Anxiety and Dread: Kierkegaard introduced the concept of \"existential anxiety\" or \"dread,\" which is the feeling of anxiety and unease that arises from the awareness of our freedom and the possibilities that lie before us. He believed that facing this anxiety is an essential part of authentic existence, as it forces individuals to make choices and take responsibility for their lives.\n",
      "\n",
      "3. Faith and Leap of Faith: Kierkegaard distinguished between two types of life paths: the aesthetic, characterized by immediate pleasure-seeking, and the ethical, governed by moral duty. However, he proposed a third path, the religious stage, which involves a \"leap of faith\" beyond reason. This leap of faith is a central theme in existentialism, emphasizing the importance of individual choice and commitment in the absence of certainty.\n",
      "\n",
      "4. Critique of Hegel: Kierkegaard's philosophy was, in part, a reaction against the systematic philosophy of G.W.F. Hegel, who proposed that history follows a rational, dialectical process. Kierkegaard, on the other hand, emphasized the irrational, passionate, and unpredictable aspects of human existence, arguing that life cannot be fully captured by abstract philosophical systems.\n",
      "\n",
      "5. Influence on Later Existentialists: Kierkegaard's ideas influenced many later existentialist thinkers, including Jean-Paul Sartre, Albert Camus, and Martin Heidegger. They drew on his emphasis on individual freedom, choice, and the absurdity of existence to develop their own existentialist philosophies.\n",
      "\n",
      "In summary, Kierkegaard's role in existentialism revolves around his emphasis on individual existence, the importance of choice and commitment, the concept of existential anxiety, and his critique of systematic philosophy. His ideas laid the groundwork for much of the existentialist movement that followed."
     ]
    }
   ],
   "source": [
    "for chunk in chat.stream(messages):\n",
    "    print(chunk.content, end=\"\", flush=True)"
   ]
  },
  {
   "cell_type": "markdown",
   "id": "7997365c-db1c-4cb0-8594-4b194513ce9f",
   "metadata": {},
   "source": [
    "## Lecture 3"
   ]
  },
  {
   "cell_type": "code",
   "execution_count": 4,
   "id": "7f8ed30c-dabf-4d85-946d-c8ac2b11f150",
   "metadata": {},
   "outputs": [],
   "source": [
    "from langchain_core.prompts import PromptTemplate"
   ]
  },
  {
   "cell_type": "code",
   "execution_count": 25,
   "id": "d2051cc6-d5f2-45c7-86b8-9d669f2c0863",
   "metadata": {},
   "outputs": [],
   "source": [
    "prompt_template = PromptTemplate.from_template(\n",
    "    \"Generate a very short conversation between two people about {topic}\"\n",
    ")"
   ]
  },
  {
   "cell_type": "code",
   "execution_count": 26,
   "id": "56b536da-1288-4a5e-8210-f012011aa772",
   "metadata": {},
   "outputs": [
    {
     "name": "stdout",
     "output_type": "stream",
     "text": [
      " Person 1: Wow, David, I'm so impressed with how you managed that crisis situation today.\n",
      "Person 2: Thank you for the feedback, John, but I have to admit I'm actually surprised by that. I seemed to have handled it better than I would have expected.\n",
      "Person 1: That's the beauty of self-awareness. You recognized your own capabilities and were able to execute on them when it mattered most.\n",
      "Person 2: Definitely, and I think I'll be able to do it again should another challenging situation arise. \n",
      "Person 1: You absolutely can. You should acknowledge your own skills and use them to your advantage going forward. \n",
      "\n",
      "In this short conversation, John expresses admiration for David's impressive handling of a crisis and notes the importance of self-awareness in recognizing skills. David initially expresses surprise at their own performance but acknowledges their capability. They both agree that David will be able to repeat this performance due to their self-recognition and confidence in their skills. \n"
     ]
    }
   ],
   "source": [
    "response = model.invoke(prompt_template.format(topic = \"self-recognition\"))\n",
    "print(response)"
   ]
  },
  {
   "cell_type": "code",
   "execution_count": 4,
   "id": "4dd3fc39-52e5-4605-b8da-9b732d5b2f20",
   "metadata": {},
   "outputs": [],
   "source": [
    "from langchain_core.prompts import ChatPromptTemplate\n",
    "\n",
    "message_prompt = ChatPromptTemplate.from_messages([\n",
    "    (\"system\", \"you are a AI master in university\"),\n",
    "    (\"human\", \"{first_topic} role in {second_topic}\")\n",
    "])\n",
    "\n",
    "chat_ai = chat.invoke(message_prompt.invoke({\"first_topic\" : \"transformers\", \"second_topic\" : \"AI\"}))"
   ]
  },
  {
   "cell_type": "code",
   "execution_count": 30,
   "id": "e574fe2d-4648-4012-9f8c-4c23ec395cfe",
   "metadata": {},
   "outputs": [
    {
     "name": "stdout",
     "output_type": "stream",
     "text": [
      "content='Transformers play a crucial role in artificial intelligence, particularly in the field of natural language processing (NLP). They are a type of neural network architecture that has revolutionized the way machines understand and generate human language.\\n\\nThe key innovation of transformers is their ability to process sequences of data (such as sentences or paragraphs) in parallel, rather than sequentially as in traditional recurrent neural networks (RNNs). This is achieved through a mechanism called self-attention, which allows the model to weigh the importance of different words in a sentence when making predictions.\\n\\nHere are some key roles and contributions of transformers in AI:\\n\\n1. Language Understanding: Transformers excel at understanding and interpreting human language. They can be trained on large text corpora to learn contextual representations of words and sentences, enabling them to capture subtle nuances and semantic meanings. This capability has improved the performance of tasks such as text classification, sentiment analysis, named entity recognition, and question answering.\\n\\n2. Contextual Word Embeddings: Transformer models, such as BERT (Bidirectional Encoder Representations from Transformers) and GPT (Generative Pre-trained Transformer), have introduced the concept of contextual word embeddings. Unlike traditional word embeddings that provide a single representation for each word, transformers generate dynamic embeddings that change based on the context in which the word appears. This allows for a more nuanced understanding of language and improves the performance of downstream NLP tasks.\\n\\n3. Pre-training and Fine-tuning: Transformers are typically pre-trained on large-scale text data using unsupervised learning objectives, such as language modeling or masked language modeling. This pre-training phase allows the models to learn general language patterns and syntax. After pre-training, the models can be fine-tuned on specific downstream tasks with smaller labeled datasets. This transfer learning approach has significantly improved the efficiency and effectiveness of NLP models.\\n\\n4. Generation of Human-like Text: Transformers, especially the decoder-only variants like GPT, have demonstrated impressive capabilities in generating human-like text. They can generate coherent and contextually appropriate responses, making them useful for applications such as dialogue generation, language translation, text summarization, and content generation.\\n\\n5. Multi-task Learning: Transformers are versatile and can be adapted to perform multiple NLP tasks simultaneously. By fine-tuning a single pre-trained transformer model on different tasks, it can learn to handle various linguistic challenges, such as language understanding, generation, and reasoning, in a unified framework.\\n\\nOverall, transformers have brought significant advancements to the field of artificial intelligence, particularly in natural language processing. They have improved the accuracy and capabilities of NLP models, enabling them to understand and generate human language more effectively. The ongoing research and development in transformer architectures are driving further progress in building more intelligent and human-like AI systems.' additional_kwargs={'documents': None, 'citations': None, 'search_results': None, 'search_queries': None, 'is_search_required': None, 'generation_id': 'd6e4c926-87d1-4ab5-9396-0600bb08779e', 'token_count': {'input_tokens': 212.0, 'output_tokens': 561.0}} response_metadata={'documents': None, 'citations': None, 'search_results': None, 'search_queries': None, 'is_search_required': None, 'generation_id': 'd6e4c926-87d1-4ab5-9396-0600bb08779e', 'token_count': {'input_tokens': 212.0, 'output_tokens': 561.0}} id='run-df3800af-cdab-46a8-97a7-74f22c8241f9-0' usage_metadata={'input_tokens': 212, 'output_tokens': 561, 'total_tokens': 773}\n"
     ]
    }
   ],
   "source": [
    "print(chat_ai)"
   ]
  },
  {
   "cell_type": "markdown",
   "id": "8f883706-5835-4c2a-ae71-1204ba2d7b5f",
   "metadata": {},
   "source": [
    "## Lecture 4"
   ]
  },
  {
   "cell_type": "code",
   "execution_count": 31,
   "id": "8aa8e19a-172a-498e-acc0-8faf36547b13",
   "metadata": {},
   "outputs": [
    {
     "name": "stdout",
     "output_type": "stream",
     "text": [
      "Transformers play a crucial role in natural language processing (NLP) and have revolutionized the field. They are a type of neural network architecture specifically designed to handle sequential data, such as text and speech. The key innovation of transformers is their ability to process input sequences in parallel, allowing for more efficient and effective learning.\n",
      "\n",
      "Here are some key aspects and roles of transformers in NLP:\n",
      "\n",
      "1. **Contextual Word Embeddings**: Transformers, particularly models like BERT (Bidirectional Encoder Representations from Transformers), GPT (Generative Pre-trained Transformer), and their variants, excel at generating contextual word embeddings. These embeddings capture the meaning of words based on the context in which they appear, which is essential for understanding language nuances.\n",
      "\n",
      "2. **Language Understanding**: Transformers can understand and interpret human language. They are trained on vast amounts of text data and can learn to represent words and sentences in a way that captures their semantic meaning. This enables them to perform tasks such as text classification, sentiment analysis, named entity recognition, and question answering.\n",
      "\n",
      "3. **Contextual Attention**: Transformers use self-attention mechanisms to weigh the importance of different words in a sentence relative to each other. This allows the model to focus on relevant words and capture long-range dependencies in the text, which is crucial for understanding sentence structure and context.\n",
      "\n",
      "4. **Pre-training and Fine-tuning**: Transformers are typically pre-trained on large-scale text corpora and then fine-tuned on specific downstream tasks. During pre-training, they learn general language representations, and fine-tuning adapts these representations to specific tasks, resulting in state-of-the-art performance across a wide range of NLP applications.\n",
      "\n",
      "5. **Generative Modeling**: Some transformer models, like GPT and its variants, are generative in nature. They can generate coherent and contextually appropriate text by predicting the next word in a sequence. This has applications in language generation, dialogue systems, text completion, and even creative writing.\n",
      "\n",
      "6. **Transfer Learning**: Transformers enable transfer learning in NLP. Pre-trained transformer models can be fine-tuned on smaller task-specific datasets, leveraging the knowledge learned from large-scale pre-training. This has significantly improved the performance of NLP models, especially in scenarios with limited labeled data.\n",
      "\n",
      "7. **Multilingual NLP**: Transformer models, such as multilingual BERT, have been trained on text data from multiple languages. They can understand and generate text in different languages, enabling cross-lingual understanding and facilitating multilingual NLP applications.\n",
      "\n",
      "8. **State-of-the-art Performance**: Transformers have consistently achieved state-of-the-art results in various NLP benchmarks and competitions, outperforming traditional machine learning and deep learning models. They have become the go-to choice for many NLP tasks.\n",
      "\n",
      "Overall, transformers have had a profound impact on NLP, advancing the field and enabling a wide range of applications. Their ability to understand and generate human-like language has brought us closer to building truly intelligent language systems.\n"
     ]
    }
   ],
   "source": [
    "chain = message_prompt | chat\n",
    "\n",
    "chain_response = chain.invoke({\"first_topic\" : \"transformers\", \"second_topic\" : \"NLP\"})\n",
    "print(chain_response.content)"
   ]
  },
  {
   "cell_type": "markdown",
   "id": "40f2cb30-736f-4f0e-a800-71bc5bcad2db",
   "metadata": {},
   "source": [
    "## Lecture 5"
   ]
  },
  {
   "cell_type": "code",
   "execution_count": 20,
   "id": "615da565-067b-4065-9699-b0030cb04074",
   "metadata": {},
   "outputs": [
    {
     "name": "stdout",
     "output_type": "stream",
     "text": [
      "CPU times: total: 0 ns\n",
      "Wall time: 0 ns\n",
      "پاییز آمد و برگ‌ها را رنگارنگ کرد\n",
      "درختان را به شوق رقص و شادمانی آورد\n",
      "\n",
      "باد می‌وزد و برگ‌ها را به پرواز در می‌آورد\n",
      "پاییز فصل عاشقانه‌ها و رویاهای رنگارنگ\n"
     ]
    }
   ],
   "source": [
    "message_prompt_poem = ChatPromptTemplate.from_messages([\n",
    "    (\"system\", \" تو یک شاعر ایرانی هستی \"),\n",
    "    (\"human\", \"یک شعر دو بیتی درباره ی {topic} بگو\")\n",
    "])\n",
    "\n",
    "chain_poem = message_prompt_poem | chat\n",
    "\n",
    "%time\n",
    "chain_response_poem = chain_poem.invoke({\"topic\" : \"پاییز\"})\n",
    "print(f'{chain_response_poem.content}')"
   ]
  },
  {
   "cell_type": "code",
   "execution_count": 18,
   "id": "ec055f72-bd24-4301-855c-de9f43fa5f7a",
   "metadata": {},
   "outputs": [
    {
     "name": "stdout",
     "output_type": "stream",
     "text": [
      "CPU times: total: 0 ns\n",
      "Wall time: 0 ns\n",
      "دخترک پالتو قرمزش را پوشید و از خانه بیرون زد. برگ‌های پاییزی زیر قدم‌هایش می‌چرخیدند و دخترک لبخند می‌زد. بوی خاک باران خورده فضا را پر کرده بود و دخترک نفس عمیقی کشید. قطرات باران یکی یکی روی گونه‌هایش می‌نشستند و دخترک احساس زنده بودن می‌کرد. پاییز بود و دخترک عاشق این فصل.\n"
     ]
    }
   ],
   "source": [
    "message_prompt_story = ChatPromptTemplate.from_messages([\n",
    "    (\"system\", \" تو یک نویسنده‌ی ایرانی هستی \"),\n",
    "    (\"human\", \"یک داستان خیلی خیلی خیلی کوتاه درباره‌ی {topic}\")\n",
    "])\n",
    "\n",
    "chain_story = message_prompt_story | chat\n",
    "\n",
    "%time\n",
    "chain_response_story = chain_story.invoke({\"topic\" : \"پاییز\"})\n",
    "print(f'{chain_response_story.content}')"
   ]
  },
  {
   "cell_type": "code",
   "execution_count": 21,
   "id": "ada9a373-40a9-4a50-9a4e-652ebd0bdbf1",
   "metadata": {},
   "outputs": [
    {
     "name": "stdout",
     "output_type": "stream",
     "text": [
      "CPU times: total: 0 ns\n",
      "Wall time: 0 ns\n"
     ]
    },
    {
     "data": {
      "text/plain": [
       "{'poem': AIMessage(content='پاییز آمد و برگ\\u200cها را رنگین کرد\\nباد خزان، رقص برگ\\u200cها را آهنگین کرد\\n\\nدرختان، جامه\\u200cی سبز را از تن برکندند\\nخورشید، بر سر شاخسارشان، تاج زرین کرد', additional_kwargs={'documents': None, 'citations': None, 'search_results': None, 'search_queries': None, 'is_search_required': None, 'generation_id': 'c7972fb2-8cab-47f4-890e-3764e3045982', 'token_count': {'input_tokens': 220.0, 'output_tokens': 58.0}}, response_metadata={'documents': None, 'citations': None, 'search_results': None, 'search_queries': None, 'is_search_required': None, 'generation_id': 'c7972fb2-8cab-47f4-890e-3764e3045982', 'token_count': {'input_tokens': 220.0, 'output_tokens': 58.0}}, id='run-1bb54580-215d-42c4-8309-c03feb4f3a31-0', usage_metadata={'input_tokens': 220, 'output_tokens': 58, 'total_tokens': 278}),\n",
       " 'story': AIMessage(content='پاییز آمده بود و شهر را در برگ\\u200cهای رنگارنگ خود پیچیده بود. دخترکی با شال گردن قرمز در پارک قدم می\\u200cزد و برگ\\u200cهایی که در هوا می\\u200cچرخیدند را تماشا می\\u200cکرد. بوی خاک باران خورده فضا را پر کرده بود و دخترک نفس عمیقی کشید. نسیم خنکی صورتش را نوازش کرد و او لبخندی زد. پاییز همیشه برایش فصل شگفتی و زیبایی بود.', additional_kwargs={'documents': None, 'citations': None, 'search_results': None, 'search_queries': None, 'is_search_required': None, 'generation_id': 'c5904a7e-ac4b-493a-acde-eaf9bd840aeb', 'token_count': {'input_tokens': 225.0, 'output_tokens': 113.0}}, response_metadata={'documents': None, 'citations': None, 'search_results': None, 'search_queries': None, 'is_search_required': None, 'generation_id': 'c5904a7e-ac4b-493a-acde-eaf9bd840aeb', 'token_count': {'input_tokens': 225.0, 'output_tokens': 113.0}}, id='run-2d7d6646-5275-4aee-b192-4c6684a5c929-0', usage_metadata={'input_tokens': 225, 'output_tokens': 113, 'total_tokens': 338})}"
      ]
     },
     "execution_count": 21,
     "metadata": {},
     "output_type": "execute_result"
    }
   ],
   "source": [
    "from langchain_core.runnables import RunnableParallel\n",
    "\n",
    "combined = RunnableParallel(poem=chain_poem, story=chain_story)\n",
    "\n",
    "%time\n",
    "combined.invoke({\"topic\": \"پاییز\"})"
   ]
  },
  {
   "cell_type": "markdown",
   "id": "546012fa-59fc-465c-9ca2-8afd3ee5d6f7",
   "metadata": {},
   "source": [
    "## Lecture 6"
   ]
  },
  {
   "cell_type": "code",
   "execution_count": 9,
   "id": "7a07f02d-66ea-47ee-adf6-06d684a6714a",
   "metadata": {},
   "outputs": [],
   "source": [
    "from langchain_core.output_parsers import StrOutputParser"
   ]
  },
  {
   "cell_type": "code",
   "execution_count": 10,
   "id": "9d28157f-665c-4396-a793-09f5d7c23b0c",
   "metadata": {},
   "outputs": [],
   "source": [
    "message_prompt = ChatPromptTemplate.from_messages([\n",
    "    (\"system\", \" تو یک معلم ریاضی هستی \"),\n",
    "    (\"human\", \"عدد {first_number} به علاوه‌ی {second_number} چند می‌شود؟\")\n",
    "])\n",
    "\n",
    "model_chain = message_prompt | chat | StrOutputParser()"
   ]
  },
  {
   "cell_type": "code",
   "execution_count": 11,
   "id": "97d87365-3853-438c-b2be-3e17adf31744",
   "metadata": {},
   "outputs": [
    {
     "name": "stdout",
     "output_type": "stream",
     "text": [
      "74\n"
     ]
    }
   ],
   "source": [
    "first_number, second_number = \"۱۲\", \"شصت و دو\"\n",
    "\n",
    "chain_response = model_chain.invoke({\"first_number\": first_number, \"second_number\": second_number})\n",
    "print(chain_response)"
   ]
  },
  {
   "cell_type": "code",
   "execution_count": 6,
   "id": "0bff7b53-db6c-4fc9-8f2c-d31fc0b62f3a",
   "metadata": {},
   "outputs": [],
   "source": [
    "import re\n",
    "\n",
    "# Define a function to count the number of numbers in a text\n",
    "def count_numbers(text):\n",
    "\n",
    "    # Find all numbers in the text (including Persian and Arabic numbers)\n",
    "    pattern = r'[0-9۰-۹]+'\n",
    "    numbers = re.findall(pattern, text)\n",
    "\n",
    "    # Return the number of numbers found in str format\n",
    "    return str(len(numbers))"
   ]
  },
  {
   "cell_type": "code",
   "execution_count": 14,
   "id": "80b1b910-d361-4310-b7cd-768873990040",
   "metadata": {},
   "outputs": [],
   "source": [
    "from langchain_core.runnables import RunnableLambda\n",
    "\n",
    "count_numbers_runnable = RunnableLambda(count_numbers)\n",
    "\n",
    "chain_with_runnable = model_chain | count_numbers_runnable"
   ]
  },
  {
   "cell_type": "code",
   "execution_count": 15,
   "id": "81e4cb68-52bc-410f-95c9-1748094a2091",
   "metadata": {},
   "outputs": [
    {
     "name": "stdout",
     "output_type": "stream",
     "text": [
      "1\n"
     ]
    }
   ],
   "source": [
    "chain_with_runnable_response = chain_with_runnable.invoke({\"first_number\": first_number, \"second_number\": second_number})\n",
    "\n",
    "print(chain_with_runnable_response)"
   ]
  },
  {
   "cell_type": "markdown",
   "id": "7d12b5c0-b9da-43bc-8b3a-56a430412870",
   "metadata": {},
   "source": [
    "## Lecture 7"
   ]
  },
  {
   "cell_type": "code",
   "execution_count": 22,
   "id": "390a1932-55e9-4748-9a76-354d121a21bd",
   "metadata": {},
   "outputs": [
    {
     "data": {
      "text/plain": [
       "{'original': {'input': 'Quera'}, 'length': 5}"
      ]
     },
     "execution_count": 22,
     "metadata": {},
     "output_type": "execute_result"
    }
   ],
   "source": [
    "from langchain_core.runnables import RunnablePassthrough\n",
    "\n",
    "runnable = RunnableParallel(\n",
    "    original = RunnablePassthrough(),\n",
    "    length = lambda x: len(x['input'])\n",
    ")\n",
    "runnable.invoke({\"input\" : \"Quera\"})"
   ]
  },
  {
   "cell_type": "code",
   "execution_count": 23,
   "id": "79cdfb13-5207-4a6e-8b23-37a1da46879c",
   "metadata": {},
   "outputs": [
    {
     "data": {
      "text/plain": [
       "{'original': {'input': 'Quera', 'lower': 'quera'}, 'length': 5}"
      ]
     },
     "execution_count": 23,
     "metadata": {},
     "output_type": "execute_result"
    }
   ],
   "source": [
    "runnable = RunnableParallel(\n",
    "    original = RunnablePassthrough().assign(lower=lambda x: x['input'].lower()),\n",
    "    length = lambda x: len(x['input'])\n",
    ")\n",
    "runnable.invoke({'input': 'Quera'})"
   ]
  },
  {
   "cell_type": "code",
   "execution_count": 24,
   "id": "105bbfdd-8d7d-4f93-8e25-fffdc7ed4d0c",
   "metadata": {},
   "outputs": [
    {
     "data": {
      "text/plain": [
       "{'model_answer': '74', 'count_numbers_answer': '1'}"
      ]
     },
     "execution_count": 24,
     "metadata": {},
     "output_type": "execute_result"
    }
   ],
   "source": [
    "final_output = RunnableParallel({\n",
    "    \"model_answer\": RunnablePassthrough(),  \n",
    "    \"count_numbers_answer\": count_numbers_runnable \n",
    "})\n",
    "\n",
    "combined_chain = model_chain | final_output\n",
    "\n",
    "response = combined_chain.invoke({\"first_number\": first_number, \"second_number\": second_number})\n",
    "response"
   ]
  },
  {
   "cell_type": "markdown",
   "id": "0c6de499-07fc-4edf-81c9-4bbc4ad4eeec",
   "metadata": {},
   "source": [
    "## Lecture 8"
   ]
  },
  {
   "cell_type": "code",
   "execution_count": 26,
   "id": "2e31118c-6206-4fb8-afcd-8a0ddb8753f1",
   "metadata": {},
   "outputs": [],
   "source": [
    "from operator import itemgetter"
   ]
  },
  {
   "cell_type": "code",
   "execution_count": 27,
   "id": "398c0e46-558e-461b-8f20-0fa2a6d7f795",
   "metadata": {},
   "outputs": [],
   "source": [
    "person_prompt = ChatPromptTemplate.from_template(\"what is the city {person} is from?\")\n",
    "\n",
    "sub_chain = person_prompt | model | StrOutputParser()\n",
    "\n",
    "city_prompt = ChatPromptTemplate.from_template(\n",
    "    \"what country is the city {city} in? respond in {language}\"\n",
    ")\n",
    "\n",
    "chain = (\n",
    "    {\"city\": sub_chain, \"language\": itemgetter(\"language\")}\n",
    "    | city_prompt\n",
    "    | model\n",
    "    | StrOutputParser()\n",
    ")"
   ]
  },
  {
   "cell_type": "code",
   "execution_count": 28,
   "id": "02265259-bf30-482e-9f15-953d55657962",
   "metadata": {},
   "outputs": [
    {
     "name": "stdout",
     "output_type": "stream",
     "text": [
      " بهترین نقل کنید با توضیح این است که بن از مرکز اقوام و موسسات راه راستی و فرهنگی در زمینه موسیقی و بالاتر است که در وینیگ به درک بهتر واقعیت اقوام و موسسات و مرکز فرهنگی و راه راستی و موسیقی فراموش کرد. \n",
      "\n",
      "وینیگ به عنوان ساختن شهری با موسیقی به خوبی معروف شده است و به عنوان مرکز راه راستی و موسیقی در دنیا به خوبی معروف است. \n",
      "\n",
      "موسیقی واقعیتی به نظر من از موسیقی واقعیتی بهتر و در بیشتر موارد به نظر من واقعیتی است که به خوبی مشترک است و به عنوان مرکز راه راستی و موسیقی در دنیا به خوبی معروف است. \n",
      "\n",
      "واقعیت بهتر است واقعیتی که به عنوان مرکز راه راستی و موسیقی در دنیا به خوبی معروف است. \n",
      "\n",
      "موسیقی واقعیتی به نظر من از موسیقی واقعیتی بهتر و در بیشتر موارد به نظر من واقعیتی است که به خوبی مشترک است و به عنوان مرکز راه راستی و موسیقی در دنیا به خوبی معروف است. \n",
      "\n",
      "واقعیت بهتر است واقعیتی که به عنوان مرکز راه راستی و موسیقی در دنیا به خوبی معروف است. \n",
      "\n",
      "موسیقی واقعیتی به نظر من از موسیقی واقعیتی بهتر و در بیشتر موارد به نظر من واقعیتی است که به خوبی مشترک است و به عنوان مرکز راه راستی و موسیقی در دنیا به خوبی معروف است. \n",
      "\n",
      "واقعیت بهتر است واقعیتی که به عنوان مرکز راه راستی و موسیقی در دنیا به خوبی معروف است. \n",
      "\n",
      "I translated the response to Persian as requested. The English response states that Vienna is arguably the better location for the establishment of musical culture and the arts, and is internationally known as a center of cultural heritage and music. The response also notes that Vienna's reputation is well established as a center for the arts and music, and that this is the better location, in my opinion, for an actual music scene. \n"
     ]
    }
   ],
   "source": [
    "response = chain.invoke({\"person\": \"Beethoven\", \"language\": \"Persian\"})\n",
    "print(response)"
   ]
  },
  {
   "cell_type": "code",
   "execution_count": 31,
   "id": "42f117f8-b10e-4abc-ac28-7c2703002a30",
   "metadata": {},
   "outputs": [
    {
     "name": "stdout",
     "output_type": "stream",
     "text": [
      "           +------------------------------+      \n",
      "           | Parallel<city,language>Input |      \n",
      "           +------------------------------+      \n",
      "                  ***             ***            \n",
      "                **                   ***         \n",
      "              **                        **       \n",
      "+--------------------+                    **     \n",
      "| ChatPromptTemplate |                     *     \n",
      "+--------------------+                     *     \n",
      "           *                               *     \n",
      "           *                               *     \n",
      "           *                               *     \n",
      "      +--------+                           *     \n",
      "      | Cohere |                           *     \n",
      "      +--------+                           *     \n",
      "           *                               *     \n",
      "           *                               *     \n",
      "           *                               *     \n",
      "  +-----------------+                 +--------+ \n",
      "  | StrOutputParser |                 | Lambda | \n",
      "  +-----------------+                *+--------+ \n",
      "                  ***             ***            \n",
      "                     **         **               \n",
      "                       **     **                 \n",
      "          +-------------------------------+      \n",
      "          | Parallel<city,language>Output |      \n",
      "          +-------------------------------+      \n",
      "                           *                     \n",
      "                           *                     \n",
      "                           *                     \n",
      "                +--------------------+           \n",
      "                | ChatPromptTemplate |           \n",
      "                +--------------------+           \n",
      "                           *                     \n",
      "                           *                     \n",
      "                           *                     \n",
      "                      +--------+                 \n",
      "                      | Cohere |                 \n",
      "                      +--------+                 \n",
      "                           *                     \n",
      "                           *                     \n",
      "                           *                     \n",
      "                  +-----------------+            \n",
      "                  | StrOutputParser |            \n",
      "                  +-----------------+            \n",
      "                           *                     \n",
      "                           *                     \n",
      "                           *                     \n",
      "              +-----------------------+          \n",
      "              | StrOutputParserOutput |          \n",
      "              +-----------------------+          \n"
     ]
    }
   ],
   "source": [
    "chain.get_graph().print_ascii()"
   ]
  },
  {
   "cell_type": "code",
   "execution_count": 32,
   "id": "cb7d1907-1a98-4935-af6c-f1ab2b9b34da",
   "metadata": {},
   "outputs": [
    {
     "name": "stdout",
     "output_type": "stream",
     "text": [
      "\u001b[32;1m\u001b[1;3m[chain/start]\u001b[0m \u001b[1m[chain:RunnableSequence] Entering Chain run with input:\n",
      "\u001b[0m{\n",
      "  \"person\": \"Ferdowsi\",\n",
      "  \"language\": \"Persian\"\n",
      "}\n",
      "\u001b[32;1m\u001b[1;3m[chain/start]\u001b[0m \u001b[1m[chain:RunnableSequence > chain:RunnableParallel<city,language>] Entering Chain run with input:\n",
      "\u001b[0m{\n",
      "  \"person\": \"Ferdowsi\",\n",
      "  \"language\": \"Persian\"\n",
      "}\n",
      "\u001b[32;1m\u001b[1;3m[chain/start]\u001b[0m \u001b[1m[chain:RunnableSequence > chain:RunnableParallel<city,language> > chain:RunnableSequence] Entering Chain run with input:\n",
      "\u001b[0m{\n",
      "  \"person\": \"Ferdowsi\",\n",
      "  \"language\": \"Persian\"\n",
      "}\n",
      "\u001b[32;1m\u001b[1;3m[chain/start]\u001b[0m \u001b[1m[chain:RunnableSequence > chain:RunnableParallel<city,language> > chain:RunnableSequence > prompt:ChatPromptTemplate] Entering Prompt run with input:\n",
      "\u001b[0m{\n",
      "  \"person\": \"Ferdowsi\",\n",
      "  \"language\": \"Persian\"\n",
      "}\n",
      "\u001b[36;1m\u001b[1;3m[chain/end]\u001b[0m \u001b[1m[chain:RunnableSequence > chain:RunnableParallel<city,language> > chain:RunnableSequence > prompt:ChatPromptTemplate] [1ms] Exiting Prompt run with output:\n",
      "\u001b[0m[outputs]\n",
      "\u001b[32;1m\u001b[1;3m[llm/start]\u001b[0m \u001b[1m[chain:RunnableSequence > chain:RunnableParallel<city,language> > chain:RunnableSequence > llm:Cohere] Entering LLM run with input:\n",
      "\u001b[0m{\n",
      "  \"prompts\": [\n",
      "    \"Human: what is the city Ferdowsi is from?\"\n",
      "  ]\n",
      "}\n",
      "\u001b[32;1m\u001b[1;3m[chain/start]\u001b[0m \u001b[1m[chain:RunnableSequence > chain:RunnableParallel<city,language> > chain:RunnableLambda] Entering Chain run with input:\n",
      "\u001b[0m{\n",
      "  \"person\": \"Ferdowsi\",\n",
      "  \"language\": \"Persian\"\n",
      "}\n",
      "\u001b[36;1m\u001b[1;3m[chain/end]\u001b[0m \u001b[1m[chain:RunnableSequence > chain:RunnableParallel<city,language> > chain:RunnableLambda] [2ms] Exiting Chain run with output:\n",
      "\u001b[0m{\n",
      "  \"output\": \"Persian\"\n",
      "}\n",
      "\u001b[36;1m\u001b[1;3m[llm/end]\u001b[0m \u001b[1m[chain:RunnableSequence > chain:RunnableParallel<city,language> > chain:RunnableSequence > llm:Cohere] [3.51s] Exiting LLM run with output:\n",
      "\u001b[0m{\n",
      "  \"generations\": [\n",
      "    [\n",
      "      {\n",
      "        \"text\": \" Ferdowsi is from Tus, Iran. He is known as one of the most influential Persian poets of the Islamic era and has written widely read epic poems in Persian. Little is known about his life, but his two most famous works are the Shahnameh and the Khaleghi Nezhad. Would you like to know more about Ferdowsi's works? \",\n",
      "        \"generation_info\": null,\n",
      "        \"type\": \"Generation\"\n",
      "      }\n",
      "    ]\n",
      "  ],\n",
      "  \"llm_output\": null,\n",
      "  \"run\": null\n",
      "}\n",
      "\u001b[32;1m\u001b[1;3m[chain/start]\u001b[0m \u001b[1m[chain:RunnableSequence > chain:RunnableParallel<city,language> > chain:RunnableSequence > parser:StrOutputParser] Entering Parser run with input:\n",
      "\u001b[0m{\n",
      "  \"input\": \" Ferdowsi is from Tus, Iran. He is known as one of the most influential Persian poets of the Islamic era and has written widely read epic poems in Persian. Little is known about his life, but his two most famous works are the Shahnameh and the Khaleghi Nezhad. Would you like to know more about Ferdowsi's works? \"\n",
      "}\n",
      "\u001b[36;1m\u001b[1;3m[chain/end]\u001b[0m \u001b[1m[chain:RunnableSequence > chain:RunnableParallel<city,language> > chain:RunnableSequence > parser:StrOutputParser] [1ms] Exiting Parser run with output:\n",
      "\u001b[0m{\n",
      "  \"output\": \" Ferdowsi is from Tus, Iran. He is known as one of the most influential Persian poets of the Islamic era and has written widely read epic poems in Persian. Little is known about his life, but his two most famous works are the Shahnameh and the Khaleghi Nezhad. Would you like to know more about Ferdowsi's works? \"\n",
      "}\n",
      "\u001b[36;1m\u001b[1;3m[chain/end]\u001b[0m \u001b[1m[chain:RunnableSequence > chain:RunnableParallel<city,language> > chain:RunnableSequence] [3.53s] Exiting Chain run with output:\n",
      "\u001b[0m{\n",
      "  \"output\": \" Ferdowsi is from Tus, Iran. He is known as one of the most influential Persian poets of the Islamic era and has written widely read epic poems in Persian. Little is known about his life, but his two most famous works are the Shahnameh and the Khaleghi Nezhad. Would you like to know more about Ferdowsi's works? \"\n",
      "}\n",
      "\u001b[36;1m\u001b[1;3m[chain/end]\u001b[0m \u001b[1m[chain:RunnableSequence > chain:RunnableParallel<city,language>] [3.53s] Exiting Chain run with output:\n",
      "\u001b[0m{\n",
      "  \"city\": \" Ferdowsi is from Tus, Iran. He is known as one of the most influential Persian poets of the Islamic era and has written widely read epic poems in Persian. Little is known about his life, but his two most famous works are the Shahnameh and the Khaleghi Nezhad. Would you like to know more about Ferdowsi's works? \",\n",
      "  \"language\": \"Persian\"\n",
      "}\n",
      "\u001b[32;1m\u001b[1;3m[chain/start]\u001b[0m \u001b[1m[chain:RunnableSequence > prompt:ChatPromptTemplate] Entering Prompt run with input:\n",
      "\u001b[0m{\n",
      "  \"city\": \" Ferdowsi is from Tus, Iran. He is known as one of the most influential Persian poets of the Islamic era and has written widely read epic poems in Persian. Little is known about his life, but his two most famous works are the Shahnameh and the Khaleghi Nezhad. Would you like to know more about Ferdowsi's works? \",\n",
      "  \"language\": \"Persian\"\n",
      "}\n",
      "\u001b[36;1m\u001b[1;3m[chain/end]\u001b[0m \u001b[1m[chain:RunnableSequence > prompt:ChatPromptTemplate] [1ms] Exiting Prompt run with output:\n",
      "\u001b[0m[outputs]\n",
      "\u001b[32;1m\u001b[1;3m[llm/start]\u001b[0m \u001b[1m[chain:RunnableSequence > llm:Cohere] Entering LLM run with input:\n",
      "\u001b[0m{\n",
      "  \"prompts\": [\n",
      "    \"Human: what country is the city  Ferdowsi is from Tus, Iran. He is known as one of the most influential Persian poets of the Islamic era and has written widely read epic poems in Persian. Little is known about his life, but his two most famous works are the Shahnameh and the Khaleghi Nezhad. Would you like to know more about Ferdowsi's works?  in? respond in Persian\"\n",
      "  ]\n",
      "}\n",
      "\u001b[36;1m\u001b[1;3m[llm/end]\u001b[0m \u001b[1m[chain:RunnableSequence > llm:Cohere] [36.49s] Exiting LLM run with output:\n",
      "\u001b[0m{\n",
      "  \"generations\": [\n",
      "    [\n",
      "      {\n",
      "        \"text\": \" نمایندگی فردوسی به تصمیم گرفته در تشیک است که به خود از ایران است و در سرزمین ایرانی توس قرار دارد. او از شاعر فارسی بسیار اثرآور اسلامی بوده که کتاب شاهنامه و خلقی نژاد را از جمله رایانه های خود را به استقبال گذاشته است. درستی از عمل او چندین اخبار در صورت دارد که ما از آنها در دسترس نیز اطلاع داریم. شما مهتفی خواهید بود. از دیگر شاعران فارسی همچنین به صورت محض استفاده می کنیم و با آنکه از ما اطلاع داده بودند از آنها استفاده نکرده باشند تا از اینکه چه شاعران در سرتاسر ایران کتاب هایشان را به استقبال گذاشته باشند و چگونه این شاعران به خوبی در زمینه اجتماعی و فرهنگی ایران فارسی شکل گرفته است. اگر برای آن چیزی به نظرم خواهید رفت لطفا از ما اطلاع دهید. \\n\\nWould you like to know more about the history of Iran? فرصت محض احاطت شما در زمینه تاریخ ایران دارید که شما می توانید با ما بررسی کنید. اگر برای آن چیزی به نظرم خواهید رفت لطفا از ما اطلاع دهید. \\n\\nI hope this information was helpful to you, please let me know if there is anything else you would like to know about Ferdosi. بالا بر ما نمونه ای از راهنمایی داده اید و لطفا در صورت لزوم برای دیدن به سوالات دیگر صورت گذاشته که در مورد فردوسی به نظرم نیاز دارید صحبت کنید. این مطلب برای ما کمک شما را به خود جلب کرده است ولی در صورت لزوم برای دیدن به سوالات دیگر صورت گذاشته که در مورد فردوسی به نظرم نیاز دارید به ما اطلاع دهید تا ما بتوانیم به شما کمک کنیم. \",\n",
      "        \"generation_info\": null,\n",
      "        \"type\": \"Generation\"\n",
      "      }\n",
      "    ]\n",
      "  ],\n",
      "  \"llm_output\": null,\n",
      "  \"run\": null\n",
      "}\n",
      "\u001b[32;1m\u001b[1;3m[chain/start]\u001b[0m \u001b[1m[chain:RunnableSequence > parser:StrOutputParser] Entering Parser run with input:\n",
      "\u001b[0m{\n",
      "  \"input\": \" نمایندگی فردوسی به تصمیم گرفته در تشیک است که به خود از ایران است و در سرزمین ایرانی توس قرار دارد. او از شاعر فارسی بسیار اثرآور اسلامی بوده که کتاب شاهنامه و خلقی نژاد را از جمله رایانه های خود را به استقبال گذاشته است. درستی از عمل او چندین اخبار در صورت دارد که ما از آنها در دسترس نیز اطلاع داریم. شما مهتفی خواهید بود. از دیگر شاعران فارسی همچنین به صورت محض استفاده می کنیم و با آنکه از ما اطلاع داده بودند از آنها استفاده نکرده باشند تا از اینکه چه شاعران در سرتاسر ایران کتاب هایشان را به استقبال گذاشته باشند و چگونه این شاعران به خوبی در زمینه اجتماعی و فرهنگی ایران فارسی شکل گرفته است. اگر برای آن چیزی به نظرم خواهید رفت لطفا از ما اطلاع دهید. \\n\\nWould you like to know more about the history of Iran? فرصت محض احاطت شما در زمینه تاریخ ایران دارید که شما می توانید با ما بررسی کنید. اگر برای آن چیزی به نظرم خواهید رفت لطفا از ما اطلاع دهید. \\n\\nI hope this information was helpful to you, please let me know if there is anything else you would like to know about Ferdosi. بالا بر ما نمونه ای از راهنمایی داده اید و لطفا در صورت لزوم برای دیدن به سوالات دیگر صورت گذاشته که در مورد فردوسی به نظرم نیاز دارید صحبت کنید. این مطلب برای ما کمک شما را به خود جلب کرده است ولی در صورت لزوم برای دیدن به سوالات دیگر صورت گذاشته که در مورد فردوسی به نظرم نیاز دارید به ما اطلاع دهید تا ما بتوانیم به شما کمک کنیم. \"\n",
      "}\n",
      "\u001b[36;1m\u001b[1;3m[chain/end]\u001b[0m \u001b[1m[chain:RunnableSequence > parser:StrOutputParser] [2ms] Exiting Parser run with output:\n",
      "\u001b[0m{\n",
      "  \"output\": \" نمایندگی فردوسی به تصمیم گرفته در تشیک است که به خود از ایران است و در سرزمین ایرانی توس قرار دارد. او از شاعر فارسی بسیار اثرآور اسلامی بوده که کتاب شاهنامه و خلقی نژاد را از جمله رایانه های خود را به استقبال گذاشته است. درستی از عمل او چندین اخبار در صورت دارد که ما از آنها در دسترس نیز اطلاع داریم. شما مهتفی خواهید بود. از دیگر شاعران فارسی همچنین به صورت محض استفاده می کنیم و با آنکه از ما اطلاع داده بودند از آنها استفاده نکرده باشند تا از اینکه چه شاعران در سرتاسر ایران کتاب هایشان را به استقبال گذاشته باشند و چگونه این شاعران به خوبی در زمینه اجتماعی و فرهنگی ایران فارسی شکل گرفته است. اگر برای آن چیزی به نظرم خواهید رفت لطفا از ما اطلاع دهید. \\n\\nWould you like to know more about the history of Iran? فرصت محض احاطت شما در زمینه تاریخ ایران دارید که شما می توانید با ما بررسی کنید. اگر برای آن چیزی به نظرم خواهید رفت لطفا از ما اطلاع دهید. \\n\\nI hope this information was helpful to you, please let me know if there is anything else you would like to know about Ferdosi. بالا بر ما نمونه ای از راهنمایی داده اید و لطفا در صورت لزوم برای دیدن به سوالات دیگر صورت گذاشته که در مورد فردوسی به نظرم نیاز دارید صحبت کنید. این مطلب برای ما کمک شما را به خود جلب کرده است ولی در صورت لزوم برای دیدن به سوالات دیگر صورت گذاشته که در مورد فردوسی به نظرم نیاز دارید به ما اطلاع دهید تا ما بتوانیم به شما کمک کنیم. \"\n",
      "}\n",
      "\u001b[36;1m\u001b[1;3m[chain/end]\u001b[0m \u001b[1m[chain:RunnableSequence] [40.03s] Exiting Chain run with output:\n",
      "\u001b[0m{\n",
      "  \"output\": \" نمایندگی فردوسی به تصمیم گرفته در تشیک است که به خود از ایران است و در سرزمین ایرانی توس قرار دارد. او از شاعر فارسی بسیار اثرآور اسلامی بوده که کتاب شاهنامه و خلقی نژاد را از جمله رایانه های خود را به استقبال گذاشته است. درستی از عمل او چندین اخبار در صورت دارد که ما از آنها در دسترس نیز اطلاع داریم. شما مهتفی خواهید بود. از دیگر شاعران فارسی همچنین به صورت محض استفاده می کنیم و با آنکه از ما اطلاع داده بودند از آنها استفاده نکرده باشند تا از اینکه چه شاعران در سرتاسر ایران کتاب هایشان را به استقبال گذاشته باشند و چگونه این شاعران به خوبی در زمینه اجتماعی و فرهنگی ایران فارسی شکل گرفته است. اگر برای آن چیزی به نظرم خواهید رفت لطفا از ما اطلاع دهید. \\n\\nWould you like to know more about the history of Iran? فرصت محض احاطت شما در زمینه تاریخ ایران دارید که شما می توانید با ما بررسی کنید. اگر برای آن چیزی به نظرم خواهید رفت لطفا از ما اطلاع دهید. \\n\\nI hope this information was helpful to you, please let me know if there is anything else you would like to know about Ferdosi. بالا بر ما نمونه ای از راهنمایی داده اید و لطفا در صورت لزوم برای دیدن به سوالات دیگر صورت گذاشته که در مورد فردوسی به نظرم نیاز دارید صحبت کنید. این مطلب برای ما کمک شما را به خود جلب کرده است ولی در صورت لزوم برای دیدن به سوالات دیگر صورت گذاشته که در مورد فردوسی به نظرم نیاز دارید به ما اطلاع دهید تا ما بتوانیم به شما کمک کنیم. \"\n",
      "}\n",
      " نمایندگی فردوسی به تصمیم گرفته در تشیک است که به خود از ایران است و در سرزمین ایرانی توس قرار دارد. او از شاعر فارسی بسیار اثرآور اسلامی بوده که کتاب شاهنامه و خلقی نژاد را از جمله رایانه های خود را به استقبال گذاشته است. درستی از عمل او چندین اخبار در صورت دارد که ما از آنها در دسترس نیز اطلاع داریم. شما مهتفی خواهید بود. از دیگر شاعران فارسی همچنین به صورت محض استفاده می کنیم و با آنکه از ما اطلاع داده بودند از آنها استفاده نکرده باشند تا از اینکه چه شاعران در سرتاسر ایران کتاب هایشان را به استقبال گذاشته باشند و چگونه این شاعران به خوبی در زمینه اجتماعی و فرهنگی ایران فارسی شکل گرفته است. اگر برای آن چیزی به نظرم خواهید رفت لطفا از ما اطلاع دهید. \n",
      "\n",
      "Would you like to know more about the history of Iran? فرصت محض احاطت شما در زمینه تاریخ ایران دارید که شما می توانید با ما بررسی کنید. اگر برای آن چیزی به نظرم خواهید رفت لطفا از ما اطلاع دهید. \n",
      "\n",
      "I hope this information was helpful to you, please let me know if there is anything else you would like to know about Ferdosi. بالا بر ما نمونه ای از راهنمایی داده اید و لطفا در صورت لزوم برای دیدن به سوالات دیگر صورت گذاشته که در مورد فردوسی به نظرم نیاز دارید صحبت کنید. این مطلب برای ما کمک شما را به خود جلب کرده است ولی در صورت لزوم برای دیدن به سوالات دیگر صورت گذاشته که در مورد فردوسی به نظرم نیاز دارید به ما اطلاع دهید تا ما بتوانیم به شما کمک کنیم. \n"
     ]
    }
   ],
   "source": [
    "from langchain.callbacks.tracers import ConsoleCallbackHandler\n",
    "\n",
    "response = chain.invoke({\"person\": \"Ferdowsi\", \"language\": \"Persian\"}, config={'callbacks': [ConsoleCallbackHandler()]})\n",
    "print(response)"
   ]
  },
  {
   "cell_type": "code",
   "execution_count": 33,
   "id": "303bc0c4-c961-4b62-a52d-ed8a35e68b37",
   "metadata": {},
   "outputs": [],
   "source": [
    "from langchain.globals import set_debug\n",
    "set_debug(True)"
   ]
  },
  {
   "cell_type": "code",
   "execution_count": null,
   "id": "b770c602-77f2-45a2-8882-48e6fcfac4af",
   "metadata": {},
   "outputs": [],
   "source": []
  }
 ],
 "metadata": {
  "kernelspec": {
   "display_name": "Python 3 (ipykernel)",
   "language": "python",
   "name": "python3"
  },
  "language_info": {
   "codemirror_mode": {
    "name": "ipython",
    "version": 3
   },
   "file_extension": ".py",
   "mimetype": "text/x-python",
   "name": "python",
   "nbconvert_exporter": "python",
   "pygments_lexer": "ipython3",
   "version": "3.11.9"
  }
 },
 "nbformat": 4,
 "nbformat_minor": 5
}
